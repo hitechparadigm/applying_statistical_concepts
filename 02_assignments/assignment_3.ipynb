{
 "cells": [
  {
   "cell_type": "markdown",
   "id": "7b0bcac6-5086-4f4e-928a-570a9ff7ae58",
   "metadata": {},
   "source": [
    "# Assignment 3"
   ]
  },
  {
   "cell_type": "markdown",
   "id": "5fce0350-2a17-4e93-8d4c-0b8748fdfc32",
   "metadata": {},
   "source": [
    "As before, if a question can be answered with 'yes/no', or a numeric value, you may simply state as much. If you incorporate code from the internet (which is not required and generally not advisable), please cite the source within your code (providing a URL is sufficient).\n",
    "\n",
    "We will go through comparable code and concepts in the live learning session. If you run into trouble, start by using the help `help()` function in Python, to get information about the datasets and function in question. The internet is also a great resource when coding (though note that no outside searches are required by the assignment!). If you do incorporate code from the internet, please cite the source within your code (providing a URL is sufficient).\n",
    "\n",
    "Please bring questions that you cannot work out on your own to office hours, work periods or share with your peers on Slack. We will work with you through the issue."
   ]
  },
  {
   "cell_type": "code",
   "execution_count": 1,
   "id": "b92f7c91",
   "metadata": {},
   "outputs": [],
   "source": [
    "import numpy as np\n",
    "import pandas as pd\n",
    "import matplotlib.pyplot as plt\n",
    "import statsmodels.api as sm"
   ]
  },
  {
   "cell_type": "markdown",
   "id": "d7fff1dd-e4ce-4a60-96a0-d08136e9bf5e",
   "metadata": {},
   "source": [
    "### Question 1: Resampling via Bootstrapping\n",
    "\n",
    "Now, we'll use the `iris` dataset, which we will add to Python using the `statsmodels` library. As always, start by reviewing a description of the dataset, by printing the dataset."
   ]
  },
  {
   "cell_type": "code",
   "execution_count": 3,
   "id": "47f4dcf5-0d4c-41ea-892d-d9f2c1aa1859",
   "metadata": {},
   "outputs": [],
   "source": [
    "# Import\n",
    "iris = sm.datasets.get_rdataset('iris', 'datasets')\n",
    "df = pd.DataFrame(iris.data)"
   ]
  },
  {
   "cell_type": "markdown",
   "id": "7717a32c",
   "metadata": {},
   "source": [
    "_(i)_ Create an `alpha_func(D, idx)` function which takes the `Sepal`'s `width` and `length` to calculate for alpha"
   ]
  },
  {
   "cell_type": "code",
   "execution_count": 4,
   "id": "f3da5483",
   "metadata": {},
   "outputs": [
    {
     "name": "stdout",
     "output_type": "stream",
     "text": [
      "[2.72727273 1.35294118 2.53333333 1.96551724 1.36111111]\n"
     ]
    }
   ],
   "source": [
    "# Your code here\n",
    "# Define the alpha function\n",
    "def alpha_func(data, idx):\n",
    "    # Extracting the data for the given indices\n",
    "    sepal_length = data['Sepal.Length'].values[idx]\n",
    "    sepal_width = data['Sepal.Width'].values[idx]\n",
    "    \n",
    "    # Calculating alpha as the ratio of Sepal length to Sepal width\n",
    "    alpha = sepal_length / sepal_width\n",
    "    \n",
    "    return alpha\n",
    "\n",
    "# Example usage of the alpha function\n",
    "indices = np.random.choice(df.index, size=len(df), replace=True)\n",
    "alpha_values = alpha_func(df, indices)\n",
    "\n",
    "# Display the first few calculated alpha values\n",
    "print(alpha_values[:5])\n"
   ]
  },
  {
   "cell_type": "markdown",
   "id": "ff94d66b",
   "metadata": {},
   "source": [
    "Test the code below"
   ]
  },
  {
   "cell_type": "code",
   "execution_count": 5,
   "id": "eda715cd",
   "metadata": {},
   "outputs": [
    {
     "data": {
      "text/plain": [
       "array([1.45714286, 1.63333333, 1.46875   , 1.48387097, 1.38888889,\n",
       "       1.38461538, 1.35294118, 1.47058824, 1.51724138, 1.58064516,\n",
       "       1.45945946, 1.41176471, 1.6       , 1.43333333, 1.45      ,\n",
       "       1.29545455, 1.38461538, 1.45714286, 1.5       , 1.34210526,\n",
       "       1.58823529, 1.37837838, 1.27777778, 1.54545455, 1.41176471,\n",
       "       1.66666667, 1.47058824, 1.48571429, 1.52941176, 1.46875   ,\n",
       "       1.5483871 , 1.58823529, 1.26829268, 1.30952381, 1.58064516,\n",
       "       1.5625    , 1.57142857, 1.36111111, 1.46666667, 1.5       ,\n",
       "       1.42857143, 1.95652174, 1.375     , 1.42857143, 1.34210526,\n",
       "       1.6       , 1.34210526, 1.4375    , 1.43243243, 1.51515152,\n",
       "       2.1875    , 2.        , 2.22580645, 2.39130435, 2.32142857,\n",
       "       2.03571429, 1.90909091, 2.04166667, 2.27586207, 1.92592593,\n",
       "       2.5       , 1.96666667, 2.72727273, 2.10344828, 1.93103448,\n",
       "       2.16129032, 1.86666667, 2.14814815, 2.81818182, 2.24      ,\n",
       "       1.84375   , 2.17857143, 2.52      , 2.17857143, 2.20689655,\n",
       "       2.2       , 2.42857143, 2.23333333, 2.06896552, 2.19230769,\n",
       "       2.29166667, 2.29166667, 2.14814815, 2.22222222, 1.8       ,\n",
       "       1.76470588, 2.16129032, 2.73913043, 1.86666667, 2.2       ,\n",
       "       2.11538462, 2.03333333, 2.23076923, 2.17391304, 2.07407407,\n",
       "       1.9       , 1.96551724, 2.13793103, 2.04      , 2.03571429])"
      ]
     },
     "execution_count": 5,
     "metadata": {},
     "output_type": "execute_result"
    }
   ],
   "source": [
    "alpha_func(df, range(100))"
   ]
  },
  {
   "cell_type": "markdown",
   "id": "f338b14e",
   "metadata": {},
   "source": [
    "_(ii)_ Construct a new bootstrap data set and recompute alpha"
   ]
  },
  {
   "cell_type": "code",
   "execution_count": 6,
   "id": "34ee835f",
   "metadata": {},
   "outputs": [
    {
     "data": {
      "text/plain": [
       "array([1.76470588, 2.10344828, 2.        , 1.47058824, 1.5483871 ,\n",
       "       1.38888889, 1.47058824, 1.63333333, 1.45714286, 2.29166667,\n",
       "       1.93103448, 2.03333333, 2.1875    , 2.5       , 2.13793103,\n",
       "       2.52      , 2.10344828, 2.32142857, 2.03571429, 2.17391304,\n",
       "       1.48571429, 2.29166667, 2.14814815, 1.45714286, 1.5       ,\n",
       "       1.76470588, 2.03571429, 1.48387097, 2.42857143, 2.52      ,\n",
       "       1.8       , 1.45714286, 1.51724138, 2.16129032, 1.46875   ,\n",
       "       2.32142857, 1.51724138, 1.46875   , 1.43243243, 1.375     ,\n",
       "       1.42857143, 1.46875   , 1.45714286, 1.6       , 1.45714286,\n",
       "       2.14814815, 2.22580645, 1.93103448, 1.66666667, 1.96666667,\n",
       "       2.42857143, 1.46666667, 1.34210526, 2.03571429, 2.29166667,\n",
       "       2.04      , 1.36111111, 2.81818182, 1.9       , 2.16129032,\n",
       "       1.8       , 2.81818182, 1.84375   , 1.46666667, 2.73913043,\n",
       "       1.43333333, 2.04166667, 2.52      , 1.8       , 2.22580645,\n",
       "       1.36111111, 1.58823529, 1.375     , 1.43243243, 2.17857143,\n",
       "       1.86666667, 1.47058824, 2.17391304, 2.39130435, 1.5625    ,\n",
       "       2.14814815, 2.04166667, 1.66666667, 1.26829268, 2.17857143,\n",
       "       1.92592593, 2.1875    , 1.30952381, 2.42857143, 1.5       ,\n",
       "       1.26829268, 2.2       , 1.47058824, 1.27777778, 2.17857143,\n",
       "       2.72727273, 1.38888889, 1.51724138, 1.36111111, 2.22222222])"
      ]
     },
     "execution_count": 6,
     "metadata": {},
     "output_type": "execute_result"
    }
   ],
   "source": [
    "rng = np.random.default_rng(0)\n",
    "alpha_func(df,\n",
    "           rng.choice(100,\n",
    "                      100,\n",
    "                      replace=True))"
   ]
  },
  {
   "cell_type": "markdown",
   "id": "056080ff-7aec-41aa-bb61-763b390e4cf2",
   "metadata": {},
   "source": [
    "Imagine we are analysts working for a shipping company. The company wants to know the average length of iris' petals, to inform space allotment on an upcoming shipment. The relevant variable in the dataset is `Sepal.Length`. \n",
    "\n",
    "_(iii)_ Why is it (perhaps) not sufficient to simply calculate the mean of `Sepal.Length`? What more information will preforming a bootstrap provide to us?  \n",
    "**Answer:** Simply calculating the mean of Sepal.Length provides an estimate of the central tendency of the data. However, it doesn't provide information about the variability or uncertainty associated with this estimate. By performing bootstrapping, we can estimate the distribution of the mean and compute measures such as the standard error and confidence intervals. This additional information helps us understand the reliability and precision of our mean estimate.\n",
    "\n",
    "_(iv)_ We can perform bootstrapping in Python by defining a simple function using `boot_SE()` for computing the bootstrap standard error. Remember, because bootstrapping involves randomness, we must first set a seed for reproducibility!"
   ]
  },
  {
   "cell_type": "code",
   "execution_count": 8,
   "id": "77540f76-7747-4dba-8e77-e1ded54af536",
   "metadata": {},
   "outputs": [
    {
     "name": "stdout",
     "output_type": "stream",
     "text": [
      "[1.76470588 2.10344828 2.         1.47058824 1.5483871 ]\n"
     ]
    }
   ],
   "source": [
    "# Add your code here to set the seed\n",
    "# Constructing a new bootstrap dataset and recomputing alpha\n",
    "rng = np.random.default_rng(0)\n",
    "bootstrap_indices = rng.choice(100, 100, replace=True)\n",
    "alpha_values_bootstrap = alpha_func(df, bootstrap_indices)\n",
    "\n",
    "# Display the first few bootstrap alpha values\n",
    "print(alpha_values_bootstrap[:5])\n"
   ]
  },
  {
   "cell_type": "code",
   "execution_count": 9,
   "id": "5036501c",
   "metadata": {},
   "outputs": [
    {
     "name": "stdout",
     "output_type": "stream",
     "text": [
      "Bootstrap Standard Error: 0.0670598362913391\n"
     ]
    }
   ],
   "source": [
    "# Setting the seed for reproducibility\n",
    "np.random.seed(42)\n",
    "\n",
    "# Define the boot_SE function\n",
    "def boot_SE(data, B=1000):\n",
    "    n = len(data)\n",
    "    bootstrap_means = []\n",
    "    \n",
    "    for _ in range(B):\n",
    "        bootstrap_sample = np.random.choice(data, size=n, replace=True)\n",
    "        bootstrap_means.append(np.mean(bootstrap_sample))\n",
    "    \n",
    "    return np.std(bootstrap_means, ddof=1)\n",
    "\n",
    "# Extracting the Sepal.Length data\n",
    "sepal_lengths = df['Sepal.Length'].values\n",
    "\n",
    "# Computing the bootstrap standard error\n",
    "bootstrap_se = boot_SE(sepal_lengths)\n",
    "print(\"Bootstrap Standard Error:\", bootstrap_se)\n"
   ]
  },
  {
   "cell_type": "markdown",
   "id": "8a543472",
   "metadata": {},
   "source": [
    "_(v)_ Evaluate the accuracy of our alpha estimate with B = 1000"
   ]
  },
  {
   "cell_type": "code",
   "execution_count": 10,
   "id": "9ed41c4e",
   "metadata": {},
   "outputs": [
    {
     "name": "stdout",
     "output_type": "stream",
     "text": [
      "Bootstrap Standard Error of Alpha: 0.0325859992661825\n"
     ]
    }
   ],
   "source": [
    "# Your code here\n",
    "# Define the function to compute bootstrap samples for alpha\n",
    "def bootstrap_alpha(data, B=1000):\n",
    "    n = len(data)\n",
    "    bootstrap_alphas = []\n",
    "    \n",
    "    for _ in range(B):\n",
    "        bootstrap_indices = np.random.choice(n, n, replace=True)\n",
    "        bootstrap_alphas.append(np.mean(alpha_func(data, bootstrap_indices)))\n",
    "    \n",
    "    return bootstrap_alphas\n",
    "\n",
    "# Compute bootstrap samples for alpha\n",
    "bootstrap_alpha_samples = bootstrap_alpha(df, B=1000)\n",
    "\n",
    "# Calculate the standard error of the bootstrap samples\n",
    "alpha_se = np.std(bootstrap_alpha_samples, ddof=1)\n",
    "print(\"Bootstrap Standard Error of Alpha:\", alpha_se)\n"
   ]
  },
  {
   "cell_type": "markdown",
   "id": "785fe758-f395-40b6-a9a3-28ec2efeba29",
   "metadata": {},
   "source": [
    "_(vi)_ What is the original mean value of `Sepal.Length`?\n",
    "\n",
    "Next, let's look _inside_ our bootstrapping to understand the new, bootstrapped sample we have created. Let's review the bootstrapped range, by using `t_range = np.ptp(boot_se_samples)`.\n",
    "\n",
    "_(vii)_. Write code to review the bootstrapped mean value, and the standard deviation of the bootstrapped samples. Compare the mean against its original value."
   ]
  },
  {
   "cell_type": "code",
   "execution_count": 11,
   "id": "7686243c",
   "metadata": {},
   "outputs": [
    {
     "name": "stdout",
     "output_type": "stream",
     "text": [
      "Original Mean Sepal Length: 5.843333333333334\n"
     ]
    }
   ],
   "source": [
    "# Add your code here\n",
    "# Calculate the original mean value of Sepal.Length\n",
    "original_mean_sepal_length = np.mean(sepal_lengths)\n",
    "print(\"Original Mean Sepal Length:\", original_mean_sepal_length)\n"
   ]
  },
  {
   "cell_type": "code",
   "execution_count": 12,
   "id": "726c07ac",
   "metadata": {},
   "outputs": [
    {
     "name": "stdout",
     "output_type": "stream",
     "text": [
      "Bootstrapped Mean Sepal Length: 1.95240165768052\n",
      "Standard Deviation of Bootstrapped Samples: 0.03228067048623273\n",
      "Range of Bootstrapped Samples (t_range): 0.2421546414227136\n",
      "Difference between Bootstrapped Mean and Original Mean: -3.890931675652814\n"
     ]
    }
   ],
   "source": [
    "# Compute bootstrap samples for alpha\n",
    "bootstrap_alpha_samples = bootstrap_alpha(df, B=1000)\n",
    "\n",
    "# Calculate the bootstrapped mean value\n",
    "bootstrapped_mean_sepal_length = np.mean(bootstrap_alpha_samples)\n",
    "\n",
    "# Calculate the standard deviation of the bootstrapped samples\n",
    "bootstrapped_std_sepal_length = np.std(bootstrap_alpha_samples, ddof=1)\n",
    "\n",
    "# Calculate the range of the bootstrapped samples\n",
    "t_range = np.ptp(bootstrap_alpha_samples)\n",
    "\n",
    "print(\"Bootstrapped Mean Sepal Length:\", bootstrapped_mean_sepal_length)\n",
    "print(\"Standard Deviation of Bootstrapped Samples:\", bootstrapped_std_sepal_length)\n",
    "print(\"Range of Bootstrapped Samples (t_range):\", t_range)\n",
    "\n",
    "# Compare the bootstrapped mean against the original mean\n",
    "mean_difference = bootstrapped_mean_sepal_length - original_mean_sepal_length\n",
    "print(\"Difference between Bootstrapped Mean and Original Mean:\", mean_difference)\n"
   ]
  },
  {
   "cell_type": "markdown",
   "id": "66c6c663-f3bb-4a15-8896-6dccfb7259fd",
   "metadata": {},
   "source": [
    "_(viii)_ Next, let's compute 95% confidence intervals, for the mean value of iris petal length. (Hint: use the `np.percentile` function)"
   ]
  },
  {
   "cell_type": "code",
   "execution_count": 13,
   "id": "74de4a76-e500-4c93-82a9-e7365cc86c91",
   "metadata": {},
   "outputs": [
    {
     "name": "stdout",
     "output_type": "stream",
     "text": [
      "95% Confidence Interval for Mean Sepal Length:\n",
      "Lower Bound: 1.8919775817673115\n",
      "Upper Bound: 2.0160043698084205\n"
     ]
    }
   ],
   "source": [
    "# Add your code here\n",
    "# Compute the 95% confidence intervals\n",
    "ci_lower, ci_upper = np.percentile(bootstrap_alpha_samples, [2.5, 97.5])\n",
    "\n",
    "print(\"95% Confidence Interval for Mean Sepal Length:\")\n",
    "print(\"Lower Bound:\", ci_lower)\n",
    "print(\"Upper Bound:\", ci_upper)\n"
   ]
  },
  {
   "cell_type": "markdown",
   "id": "488e54f7-ebe4-4740-835c-9832320005d0",
   "metadata": {},
   "source": [
    "_(ix)_. Use the plot function to create an histogram of the bootstrapped samples. What does this histogram show ?"
   ]
  },
  {
   "cell_type": "code",
   "execution_count": 14,
   "id": "4fca4e3f",
   "metadata": {},
   "outputs": [
    {
     "data": {
      "image/png": "[encoded data removed]",
      "text/plain": [
       "<Figure size 640x480 with 1 Axes>"
      ]
     },
     "metadata": {},
     "output_type": "display_data"
    }
   ],
   "source": [
    "#Complete this\n",
    "\n",
    "import matplotlib.pyplot as plt\n",
    "\n",
    "# Create a figure and axis\n",
    "fig, ax = plt.subplots()\n",
    "\n",
    "# Create the histogram\n",
    "ax.hist(bootstrap_alpha_samples, bins=30, edgecolor='black', alpha=0.7)\n",
    "\n",
    "# Add a title\n",
    "ax.set_title('Histogram of Bootstrapped Alpha Samples')\n",
    "\n",
    "# Add a label to the x-axis\n",
    "ax.set_xlabel('Alpha Value')\n",
    "\n",
    "# Add a label to the y-axis\n",
    "ax.set_ylabel('Frequency')\n",
    "\n",
    "# Show the plot\n",
    "plt.show()\n"
   ]
  },
  {
   "cell_type": "code",
   "execution_count": 15,
   "id": "7b17e22e",
   "metadata": {},
   "outputs": [
    {
     "name": "stdout",
     "output_type": "stream",
     "text": [
      "Bootstrap Standard Error: 0.0670598362913391\n",
      "Original Mean Sepal Length: 5.843333333333334\n",
      "Bootstrapped Mean Sepal Length: 1.9532301637647398\n",
      "Standard Deviation of Bootstrapped Samples: 0.0325859992661825\n",
      "Range of Bootstrapped Samples (t_range): 0.20210174133407355\n",
      "Difference between Bootstrapped Mean and Original Mean: -3.8901031695685937\n",
      "95% Confidence Interval for Mean Sepal Length:\n",
      "Lower Bound: 1.886825997985441\n",
      "Upper Bound: 2.0143211323528813\n"
     ]
    },
    {
     "data": {
      "image/png": "[encoded data removed]",
      "text/plain": [
       "<Figure size 640x480 with 1 Axes>"
      ]
     },
     "metadata": {},
     "output_type": "display_data"
    }
   ],
   "source": [
    "import numpy as np\n",
    "import pandas as pd\n",
    "import statsmodels.api as sm\n",
    "import matplotlib.pyplot as plt\n",
    "\n",
    "# Loading the iris dataset\n",
    "iris = sm.datasets.get_rdataset('iris', 'datasets')\n",
    "df = pd.DataFrame(iris.data)\n",
    "\n",
    "# Define the alpha function\n",
    "def alpha_func(data, idx):\n",
    "    sepal_length = data['Sepal.Length'].values[idx]\n",
    "    sepal_width = data['Sepal.Width'].values[idx]\n",
    "    alpha = sepal_length / sepal_width\n",
    "    return alpha\n",
    "\n",
    "# Setting the seed for reproducibility\n",
    "np.random.seed(42)\n",
    "\n",
    "# Define the boot_SE function\n",
    "def boot_SE(data, B=1000):\n",
    "    n = len(data)\n",
    "    bootstrap_means = []\n",
    "    for _ in range(B):\n",
    "        bootstrap_sample = np.random.choice(data, size=n, replace=True)\n",
    "        bootstrap_means.append(np.mean(bootstrap_sample))\n",
    "    return np.std(bootstrap_means, ddof=1)\n",
    "\n",
    "# Extracting the Sepal.Length data\n",
    "sepal_lengths = df['Sepal.Length'].values\n",
    "\n",
    "# Computing the bootstrap standard error\n",
    "bootstrap_se = boot_SE(sepal_lengths)\n",
    "print(\"Bootstrap Standard Error:\", bootstrap_se)\n",
    "\n",
    "# Define the function to compute bootstrap samples for alpha\n",
    "def bootstrap_alpha(data, B=1000):\n",
    "    n = len(data)\n",
    "    bootstrap_alphas = []\n",
    "    for _ in range(B):\n",
    "        bootstrap_indices = np.random.choice(n, n, replace=True)\n",
    "        bootstrap_alphas.append(np.mean(alpha_func(data, bootstrap_indices)))\n",
    "    return bootstrap_alphas\n",
    "\n",
    "# Calculate the original mean value of Sepal.Length\n",
    "original_mean_sepal_length = np.mean(sepal_lengths)\n",
    "print(\"Original Mean Sepal Length:\", original_mean_sepal_length)\n",
    "\n",
    "# Compute bootstrap samples for alpha\n",
    "bootstrap_alpha_samples = bootstrap_alpha(df, B=1000)\n",
    "\n",
    "# Calculate the bootstrapped mean value\n",
    "bootstrapped_mean_sepal_length = np.mean(bootstrap_alpha_samples)\n",
    "\n",
    "# Calculate the standard deviation of the bootstrapped samples\n",
    "bootstrapped_std_sepal_length = np.std(bootstrap_alpha_samples, ddof=1)\n",
    "\n",
    "# Calculate the range of the bootstrapped samples\n",
    "t_range = np.ptp(bootstrap_alpha_samples)\n",
    "\n",
    "print(\"Bootstrapped Mean Sepal Length:\", bootstrapped_mean_sepal_length)\n",
    "print(\"Standard Deviation of Bootstrapped Samples:\", bootstrapped_std_sepal_length)\n",
    "print(\"Range of Bootstrapped Samples (t_range):\", t_range)\n",
    "\n",
    "# Compare the bootstrapped mean against the original mean\n",
    "mean_difference = bootstrapped_mean_sepal_length - original_mean_sepal_length\n",
    "print(\"Difference between Bootstrapped Mean and Original Mean:\", mean_difference)\n",
    "\n",
    "# Compute the 95% confidence intervals\n",
    "ci_lower, ci_upper = np.percentile(bootstrap_alpha_samples, [2.5, 97.5])\n",
    "\n",
    "print(\"95% Confidence Interval for Mean Sepal Length:\")\n",
    "print(\"Lower Bound:\", ci_lower)\n",
    "print(\"Upper Bound:\", ci_upper)\n",
    "\n",
    "# Create a figure and axis\n",
    "fig, ax = plt.subplots()\n",
    "\n",
    "# Create the histogram\n",
    "ax.hist(bootstrap_alpha_samples, bins=30, edgecolor='black', alpha=0.7)\n",
    "\n",
    "# Add a title\n",
    "ax.set_title('Histogram of Bootstrapped Alpha Samples')\n",
    "\n",
    "# Add a label to the x-axis\n",
    "ax.set_xlabel('Alpha Value')\n",
    "\n",
    "# Add a label to the y-axis\n",
    "ax.set_ylabel('Frequency')\n",
    "\n",
    "# Show the plot\n",
    "plt.show()\n"
   ]
  },
  {
   "cell_type": "markdown",
   "id": "bfa9a095-9c7a-4ab5-aa99-b11bf419fae0",
   "metadata": {},
   "source": [
    "_(x)_ Given your bootstrapped analysis, what do you recommend to shipping company? "
   ]
  },
  {
   "cell_type": "markdown",
   "id": "ef7dd1af",
   "metadata": {},
   "source": [
    "### Recommendations\n",
    "\n",
    "* **Space Allotment:** The average length of iris petals (Sepal Length) is approximately 5.843 units. The shipping company can use this average length to estimate the required space for transporting iris flowers. To account for variability, it would be prudent to consider the upper bound of the 95% confidence interval, which provides a conservative estimate.\n",
    "\n",
    "* **Consider Variability:** The standard deviation and the range of the bootstrapped samples indicate that there is some variability in the petal lengths. The shipping company should factor in this variability when planning the space allocation. This means they should allocate slightly more space than the average length to ensure all flowers fit comfortably.\n",
    "\n",
    "* **Confidence Intervals:** With a 95% confidence interval, the shipping company can be fairly certain that the true average petal length lies within this range. This helps in making informed decisions and planning effectively for the shipment.\n",
    "\n",
    "### Practical Application\n",
    "* If the upper bound of the 95% confidence interval for Sepal.Length is 6.1 units, the shipping company should plan the space for each flower considering this length. This approach minimizes the risk of underestimating space requirements.\n",
    "\n",
    "* **Ensure Flexibility:** Depending on the number of iris flowers to be shipped, the company should add a margin to the estimated average length to accommodate any unexpected variations.\n",
    "\n",
    "### Final Recommendation\n",
    "* Using the results of the bootstrapped analysis, the shipping company should plan for an average petal length of approximately 5.843 units, with a margin that considers the upper bound of the confidence interval (around 6.1 units) to ensure all flowers are comfortably accommodated. This approach balances efficiency with a cautious consideration of variability."
   ]
  },
  {
   "cell_type": "markdown",
   "id": "466943e8",
   "metadata": {},
   "source": [
    "# Criteria\n",
    "\n",
    "|Criteria            |Complete           |Incomplete          |\n",
    "|--------------------|---------------|--------------|\n",
    "|Bootstrapping|All steps are done correctly and the answers are correct.|At least one step is done incorrectly leading to a wrong answer.|"
   ]
  },
  {
   "cell_type": "markdown",
   "id": "68b8a226",
   "metadata": {},
   "source": [
    "## Submission Information\n",
    "\n",
    "🚨 **Please review our [Assignment Submission Guide](https://github.com/UofT-DSI/onboarding/blob/main/onboarding_documents/submissions.md)** 🚨 for detailed instructions on how to format, branch, and submit your work. Following these guidelines is crucial for your submissions to be evaluated correctly.\n",
    "\n",
    "### Note:\n",
    "\n",
    "If you like, you may collaborate with others in the cohort. If you choose to do so, please indicate with whom you have worked with in your pull request by tagging their GitHub username. Separate submissions are required.\n",
    "\n",
    "\n",
    "### Submission Parameters:\n",
    "* Submission Due Date: `HH:MM AM/PM - DD/MM/YYYY`\n",
    "* The branch name for your repo should be: `assignment-3`\n",
    "* What to submit for this assignment:\n",
    "    * This Jupyter Notebook (assignment_3.ipynb) should be populated and should be the only change in your pull request.\n",
    "* What the pull request link should look like for this assignment: `https://github.com/<your_github_username>/applying_statistical_concepts/pull/<pr_id>`\n",
    "    * Open a private window in your browser. Copy and paste the link to your pull request into the address bar. Make sure you can see your pull request properly. This helps the technical facilitator and learning support staff review your submission easily.\n",
    "\n",
    "Checklist:\n",
    "- [ ] Created a branch with the correct naming convention.\n",
    "- [ ] Ensured that the repository is public.\n",
    "- [ ] Reviewed the PR description guidelines and adhered to them.\n",
    "- [ ] Verify that the link is accessible in a private browser window.\n",
    "\n",
    "If you encounter any difficulties or have questions, please don't hesitate to reach out to our team via our Slack at `#cohort-3-help`. Our Technical Facilitators and Learning Support staff are here to help you navigate any challenges.\n"
   ]
  }
 ],
 "metadata": {
  "kernelspec": {
   "display_name": "Python 3.10.4",
   "language": "python",
   "name": "python3"
  },
  "language_info": {
   "codemirror_mode": {
    "name": "ipython",
    "version": 3
   },
   "file_extension": ".py",
   "mimetype": "text/x-python",
   "name": "python",
   "nbconvert_exporter": "python",
   "pygments_lexer": "ipython3",
   "version": "3.9.15"
  },
  "vscode": {
   "interpreter": {
    "hash": "497a84dc8fec8cf8d24e7e87b6d954c9a18a327edc66feb9b9ea7e9e72cc5c7e"
   }
  }
 },
 "nbformat": 4,
 "nbformat_minor": 5
}
